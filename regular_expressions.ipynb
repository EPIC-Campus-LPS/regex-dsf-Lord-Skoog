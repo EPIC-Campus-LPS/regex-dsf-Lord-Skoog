{
 "cells": [
  {
   "cell_type": "markdown",
   "metadata": {},
   "source": [
    "### Adding User Accounts"
   ]
  },
  {
   "cell_type": "code",
   "execution_count": null,
   "metadata": {},
   "outputs": [],
   "source": [
    "import random\n",
    "\n",
    "pswrdlist = []\n",
    "usrlist = []\n",
    "ree = []\n",
    "outlist = []\n",
    "with open('emails.txt', 'r') as file:   #opens file\n",
    "    file = file.readlines()\n",
    "    i = 0\n",
    "    while i != len(file):   #splits each user into a list and gets rid of useless information \n",
    "        usr = (file[i])\n",
    "        usr = usr.replace('_', '-'). replace('.', '-').replace('@', '-')\n",
    "        usr = usr.split('-')\n",
    "        if usr in ree:  #if username already exists it adds a 2 to differentiate \n",
    "            usr[1] += '2'\n",
    "            ree.append(usr)\n",
    "        else: \n",
    "            ree.append(usr)\n",
    "        i += 1\n",
    "c = 0 \n",
    "while c != len(ree):    #creates username\n",
    "    usr = ree[c]\n",
    "    final = str(final)\n",
    "    first = usr[0]\n",
    "    first = first[0].upper()\n",
    "    final = (first)\n",
    "    final += (usr[1])\n",
    "    final += ('-')\n",
    "    final += (usr[2])\n",
    "    usrlist.append(final)\n",
    "    c += 1\n",
    "\n",
    "#creates password \n",
    "p = 0 \n",
    "while p != len(usrlist):\n",
    "    pswrd = usrlist[p]\n",
    "    pswrd = pswrd.split('-')\n",
    "    num = 0\n",
    "    while num != 9:\n",
    "        w = random.randint(0, 9)\n",
    "        w = str(w)\n",
    "        pswrd += w\n",
    "        num += 1\n",
    "    pswrdout = pswrd[0]\n",
    "    num2 = 2\n",
    "    while num2 != len(pswrd):\n",
    "        pswrdout += pswrd[num2]\n",
    "        num2 += 1\n",
    "    pswrdlist.append(pswrdout)\n",
    "    p += 1\n",
    "    \n",
    "meme = 0\n",
    "with open('accounts.csv', 'w') as out: #writes to csv file\n",
    "    while meme != len(pswrdlist):\n",
    "\n",
    "        password = str(pswrdlist[meme])\n",
    "        user = str(usrlist[meme])\n",
    "        outfr = user + ',' + password + '\\n'\n",
    "        out.write(outfr)\n",
    "        meme += 1\n",
    "    \n"
   ]
  },
  {
   "cell_type": "markdown",
   "metadata": {},
   "source": [
    "### A little SQL"
   ]
  },
  {
   "cell_type": "code",
   "execution_count": 2,
   "metadata": {},
   "outputs": [
    {
     "name": "stdout",
     "output_type": "stream",
     "text": [
      "[\"select count(salary) as count fromempsalary where ispermanent='yes' and salary>5000;\", \"select * from employee where emaildid like '%@gmail.com';\", \"select * fromemployee where department='E-102' or department='E-104';\", \"select sum(salary) as salary from empsalary where ispermanent='yes';\", \"select deptname from empdept where deptid ='E-102';\", 'select count(empid) as employee, projectid from empproject group byprojectid;', 'select count(projectid) as project from empproject where startyear=endyear;', 'select count(projectid) as project from empproject where startyear=2010;']\n",
      "8\n"
     ]
    }
   ],
   "source": [
    "import re\n",
    "sqlamnt = 0\n",
    "with open('regex_input1.txt', 'r') as file:\n",
    "    text = ''.join(line.strip() for line in file)   #turns the whole text into a string\n",
    "    commands = re.findall(r\"select+ .+?;\", text)        #goes through the whole string and looks for pattern that SQL's follow \n",
    "    var = re.sub(r\"select+ .+?\", '[COMMAND DETECTED]', text)    #replaces sql's with command detected\n",
    "\n",
    "    print(commands)\n",
    "    print(len(commands))"
   ]
  }
 ],
 "metadata": {
  "kernelspec": {
   "display_name": "Python 3",
   "language": "python",
   "name": "python3"
  },
  "language_info": {
   "codemirror_mode": {
    "name": "ipython",
    "version": 3
   },
   "file_extension": ".py",
   "mimetype": "text/x-python",
   "name": "python",
   "nbconvert_exporter": "python",
   "pygments_lexer": "ipython3",
   "version": "3.10.12"
  }
 },
 "nbformat": 4,
 "nbformat_minor": 2
}
